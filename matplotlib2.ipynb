{
  "nbformat": 4,
  "nbformat_minor": 0,
  "metadata": {
    "colab": {
      "provenance": []
    },
    "kernelspec": {
      "name": "python3",
      "display_name": "Python 3"
    },
    "language_info": {
      "name": "python"
    }
  },
  "cells": [
    {
      "cell_type": "code",
      "source": [
        "import pandas as pd\n",
        "import matplotlib \n",
        "import numpy as np\n"
      ],
      "metadata": {
        "id": "z0m46xYjCywk"
      },
      "execution_count": null,
      "outputs": []
    },
    {
      "cell_type": "code",
      "execution_count": null,
      "metadata": {
        "colab": {
          "base_uri": "https://localhost:8080/",
          "height": 282
        },
        "id": "YRVelnGR7CYm",
        "outputId": "6c242669-8486-4131-fefd-b4ddfec748a0"
      },
      "outputs": [
        {
          "output_type": "execute_result",
          "data": {
            "text/plain": [
              "<matplotlib.legend.Legend at 0x7f8d543b6d90>"
            ]
          },
          "metadata": {},
          "execution_count": 5
        },
        {
          "output_type": "display_data",
          "data": {
            "text/plain": [
              "<Figure size 432x288 with 1 Axes>"
            ],
            "image/png": "[encoded data removed]"
          },
          "metadata": {
            "needs_background": "light"
          }
        }
      ],
      "source": [
        "import pandas as pd\n",
        "import numpy as np\n",
        "import matplotlib.pyplot as plt\n",
        "s1_marks = np.array([67,34,89])\n",
        "s2_marks = np.array([78,24,59])\n",
        "s3_marks = np.array([89,94,19])\n",
        "subject=['maths','physics','chemistry']\n",
        "plt.bar(subject,s1_marks, label='student1', color='#2345af')\n",
        "plt.bar(subject,s2_marks, bottom=s1_marks, label='student2', color='#23f567')\n",
        "plt.bar(subject,s3_marks, bottom=s2_marks+s1_marks, label='student3', color='#de45af')\n",
        "plt.legend()"
      ]
    },
    {
      "cell_type": "markdown",
      "source": [
        "GROUP PLOT"
      ],
      "metadata": {
        "id": "B9I4pTdrHrXf"
      }
    },
    {
      "cell_type": "code",
      "source": [
        "import pandas as pd\n",
        "import numpy as np\n",
        "import matplotlib.pyplot as plt\n",
        "\n",
        "\n",
        "s1_marks = np.array([67,34,89])\n",
        "s2_marks = np.array([78,24,59])\n",
        "s3_marks = np.array([89,94,19])\n",
        "subjects=['maths','physics','chemistry']\n",
        "xvalues=np.array([1,2,3])\n",
        "\n",
        "plt.bar(xvalues,s1_marks, width=0.1, label='std1')\n",
        "plt.bar(xvalues+0.1,s2_marks, width=0.1, label='std2')\n",
        "plt.bar(xvalues+0.2,s3_marks, width=0.1, label='std3')\n",
        "plt.legend()\n",
        "plt.xticks(xvalues+0.15,subject)"
      ],
      "metadata": {
        "colab": {
          "base_uri": "https://localhost:8080/",
          "height": 369
        },
        "id": "8qNerzNBCx7t",
        "outputId": "983ab5a3-738b-47bc-d13a-018031897520"
      },
      "execution_count": null,
      "outputs": [
        {
          "output_type": "execute_result",
          "data": {
            "text/plain": [
              "([<matplotlib.axis.XTick at 0x7f8d4b628700>,\n",
              "  <matplotlib.axis.XTick at 0x7f8d4b6286d0>,\n",
              "  <matplotlib.axis.XTick at 0x7f8d4b622370>],\n",
              " [Text(1.15, 0, 'maths'),\n",
              "  Text(2.15, 0, 'physics'),\n",
              "  Text(3.15, 0, 'chemistry')])"
            ]
          },
          "metadata": {},
          "execution_count": 13
        },
        {
          "output_type": "display_data",
          "data": {
            "text/plain": [
              "<Figure size 432x288 with 1 Axes>"
            ],
            "image/png": "[encoded data removed]"
          },
          "metadata": {
            "needs_background": "light"
          }
        }
      ]
    },
    {
      "cell_type": "markdown",
      "source": [
        "HISTOGRAM ----------IT GIVES FREQUENCY "
      ],
      "metadata": {
        "id": "0mf9NdX4JLDB"
      }
    },
    {
      "cell_type": "code",
      "source": [
        "temp = np.random.randint(-55,55,1000)\n",
        "plt.hist(temp,bins=30)"
      ],
      "metadata": {
        "colab": {
          "base_uri": "https://localhost:8080/",
          "height": 473
        },
        "id": "HKsvae0vIw17",
        "outputId": "92080ef0-e58a-4c11-a283-877ecddb2a0c"
      },
      "execution_count": null,
      "outputs": [
        {
          "output_type": "execute_result",
          "data": {
            "text/plain": [
              "(array([43., 39., 29., 21., 34., 23., 38., 47., 30., 41., 22., 39., 28.,\n",
              "        26., 44., 42., 27., 38., 30., 27., 39., 22., 32., 30., 27., 39.,\n",
              "        43., 22., 50., 28.]),\n",
              " array([-55.        , -51.36666667, -47.73333333, -44.1       ,\n",
              "        -40.46666667, -36.83333333, -33.2       , -29.56666667,\n",
              "        -25.93333333, -22.3       , -18.66666667, -15.03333333,\n",
              "        -11.4       ,  -7.76666667,  -4.13333333,  -0.5       ,\n",
              "          3.13333333,   6.76666667,  10.4       ,  14.03333333,\n",
              "         17.66666667,  21.3       ,  24.93333333,  28.56666667,\n",
              "         32.2       ,  35.83333333,  39.46666667,  43.1       ,\n",
              "         46.73333333,  50.36666667,  54.        ]),\n",
              " <BarContainer object of 30 artists>)"
            ]
          },
          "metadata": {},
          "execution_count": 22
        },
        {
          "output_type": "display_data",
          "data": {
            "text/plain": [
              "<Figure size 432x288 with 1 Axes>"
            ],
            "image/png": "[encoded data removed]"
          },
          "metadata": {
            "needs_background": "light"
          }
        }
      ]
    },
    {
      "cell_type": "markdown",
      "source": [],
      "metadata": {
        "id": "_WrCSs-pMpIs"
      }
    },
    {
      "cell_type": "code",
      "source": [
        "marks = np.array([12,45,3,4,5,90,123,543,-45,-30])\n",
        "plt.boxplot(marks)"
      ],
      "metadata": {
        "colab": {
          "base_uri": "https://localhost:8080/",
          "height": 404
        },
        "id": "IFrzfdTHJKE9",
        "outputId": "e9d9b396-64e8-4965-c60f-352ab6fdb15e"
      },
      "execution_count": null,
      "outputs": [
        {
          "output_type": "execute_result",
          "data": {
            "text/plain": [
              "{'whiskers': [<matplotlib.lines.Line2D at 0x7f8d4b358520>,\n",
              "  <matplotlib.lines.Line2D at 0x7f8d4b358880>],\n",
              " 'caps': [<matplotlib.lines.Line2D at 0x7f8d4b358af0>,\n",
              "  <matplotlib.lines.Line2D at 0x7f8d4b358e20>],\n",
              " 'boxes': [<matplotlib.lines.Line2D at 0x7f8d4b358220>],\n",
              " 'medians': [<matplotlib.lines.Line2D at 0x7f8d4b327070>],\n",
              " 'fliers': [<matplotlib.lines.Line2D at 0x7f8d4b3273a0>],\n",
              " 'means': []}"
            ]
          },
          "metadata": {},
          "execution_count": 27
        },
        {
          "output_type": "display_data",
          "data": {
            "text/plain": [
              "<Figure size 432x288 with 1 Axes>"
            ],
            "image/png": "[encoded data removed]"
          },
          "metadata": {
            "needs_background": "light"
          }
        }
      ]
    },
    {
      "cell_type": "markdown",
      "source": [],
      "metadata": {
        "id": "2tW_MECkQUnw"
      }
    },
    {
      "cell_type": "code",
      "source": [
        "marks=np.array([23,24,56,57,86,66,444,555,23,422,-76,-56,56,34,54,23])\n",
        "stu = pd.DataFrame(marks,columns=['marks'])\n",
        "stu\n",
        "plt.boxplot(marks)"
      ],
      "metadata": {
        "colab": {
          "base_uri": "https://localhost:8080/",
          "height": 404
        },
        "id": "Ur_7wRSVVSvy",
        "outputId": "b125acb2-ae21-4b21-ad93-e94157fb73ed"
      },
      "execution_count": null,
      "outputs": [
        {
          "output_type": "execute_result",
          "data": {
            "text/plain": [
              "{'whiskers': [<matplotlib.lines.Line2D at 0x7f8d4abf27c0>,\n",
              "  <matplotlib.lines.Line2D at 0x7f8d4abf2a90>],\n",
              " 'caps': [<matplotlib.lines.Line2D at 0x7f8d4abf2d60>,\n",
              "  <matplotlib.lines.Line2D at 0x7f8d4ac00070>],\n",
              " 'boxes': [<matplotlib.lines.Line2D at 0x7f8d4abf24f0>],\n",
              " 'medians': [<matplotlib.lines.Line2D at 0x7f8d4ac00340>],\n",
              " 'fliers': [<matplotlib.lines.Line2D at 0x7f8d4ac00610>],\n",
              " 'means': []}"
            ]
          },
          "metadata": {},
          "execution_count": 31
        },
        {
          "output_type": "display_data",
          "data": {
            "text/plain": [
              "<Figure size 432x288 with 1 Axes>"
            ],
            "image/png": "[encoded data removed]"
          },
          "metadata": {
            "needs_background": "light"
          }
        }
      ]
    },
    {
      "cell_type": "code",
      "source": [
        "# remove and detect outliers\n",
        "q1 = stu['marks'].quantile(0.25)\n",
        "q1\n",
        "q3 = stu['marks'].quantile(0.75)\n",
        "q3\n",
        "iqr = q3-q1\n",
        "ou_max = q3+1.5*iqr\n",
        "ou_min = q1-1.5*iqr\n",
        "\n",
        "for row_no in range(len(stu)):\n",
        "  if stu['marks'].iloc[row_no] > ou_max:\n",
        "    stu['marks'].iloc[row_no] = np.NaN\n",
        "  elif stu['marks'].iloc[row_no] < ou_min:\n",
        "    stu['marks'].iloc[row_no] = np.NaN\n",
        "\n",
        "stu.isnull().sum()"
      ],
      "metadata": {
        "colab": {
          "base_uri": "https://localhost:8080/"
        },
        "id": "AI-jJsi3TFc-",
        "outputId": "0a927d3b-2dc9-49cf-de01-3cdf2cad1ac1"
      },
      "execution_count": null,
      "outputs": [
        {
          "output_type": "execute_result",
          "data": {
            "text/plain": [
              "marks    5\n",
              "dtype: int64"
            ]
          },
          "metadata": {},
          "execution_count": 32
        }
      ]
    },
    {
      "cell_type": "code",
      "source": [
        "marks = np.array([23,34,45,56,67,78,78,-120,-125,70,35,89,65,63,29,90,100,180,190])\n",
        "stu = pd.DataFrame(marks, columns=['marks'])\n",
        "stu\n",
        "plt.boxplot(marks)\n",
        "stu.describe()\n",
        "# remove and detect outliers\n",
        "q1 = stu['marks'].quantile(0.25)\n",
        "q1\n",
        "q3 = stu['marks'].quantile(0.75)\n",
        "q3\n",
        "iqr = q3-q1\n",
        "ou_max = q3+1.5*iqr\n",
        "ou_min = q1-1.5*iqr\n",
        "\n",
        "for row_no in range(len(stu)):\n",
        "  if stu['marks'].iloc[row_no] > ou_max:\n",
        "    stu['marks'].iloc[row_no] = np.NaN\n",
        "  elif stu['marks'].iloc[row_no] < ou_min:\n",
        "    stu['marks'].iloc[row_no] = np.NaN"
      ],
      "metadata": {
        "colab": {
          "base_uri": "https://localhost:8080/",
          "height": 266
        },
        "id": "yi4YpvZ2WH8A",
        "outputId": "1959ce13-8cae-4b67-9a23-3efad6de83ca"
      },
      "execution_count": null,
      "outputs": [
        {
          "output_type": "display_data",
          "data": {
            "text/plain": [
              "<Figure size 432x288 with 1 Axes>"
            ],
            "image/png": "[encoded data removed]"
          },
          "metadata": {
            "needs_background": "light"
          }
        }
      ]
    },
    {
      "cell_type": "code",
      "source": [
        "fig1 = plt.figure(figsize=(15,15))\n",
        "\n",
        "plt.subplot(2,2,1)\n",
        "plt.plot([1,2,3],[11,22,33])\n",
        "\n",
        "plt.subplot(2,2,2)\n",
        "plt.scatter([1,2,3],[11,22,33])\n",
        "\n",
        "plt.subplot(2,2,3)\n",
        "plt.hist(temp)\n",
        "\n",
        "plt.subplot(2,2,4)\n",
        "plt.boxplot([stu['marks'],temp])\n",
        "\n",
        "fig1.savefig('subplot2.png')"
      ],
      "metadata": {
        "colab": {
          "base_uri": "https://localhost:8080/",
          "height": 863
        },
        "id": "EVXHMX0xdl-v",
        "outputId": "19a7de43-5d02-4f1a-bb4f-43ebb1537aac"
      },
      "execution_count": null,
      "outputs": [
        {
          "output_type": "display_data",
          "data": {
            "text/plain": [
              "<Figure size 1080x1080 with 4 Axes>"
            ],
            "image/png": "[encoded data removed]"
          },
          "metadata": {
            "needs_background": "light"
          }
        }
      ]
    },
    {
      "cell_type": "markdown",
      "source": [
        "# New section"
      ],
      "metadata": {
        "id": "rSyEGhzMd2La"
      }
    }
  ]
}